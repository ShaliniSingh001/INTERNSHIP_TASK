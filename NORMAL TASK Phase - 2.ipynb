{
 "cells": [
  {
   "cell_type": "markdown",
   "id": "0e1163b4",
   "metadata": {},
   "source": [
    "# Typing speed test"
   ]
  },
  {
   "cell_type": "code",
   "execution_count": 14,
   "id": "15e78b44",
   "metadata": {},
   "outputs": [
    {
     "name": "stdout",
     "output_type": "stream",
     "text": [
      "*****typing speed*****\n",
      "welcome coders cave\n",
      "\n",
      "\n",
      "enter : welcome to coders cave\n",
      "speed :  1  w/sec\n",
      "error :  10\n"
     ]
    }
   ],
   "source": [
    "from time import *\n",
    "import random as r \n",
    "\n",
    "\n",
    "\n",
    "def mistake(partest,usertest):\n",
    "    error = 0\n",
    "    for i in range(len(partest)):\n",
    "        try:\n",
    "            if partest[i] != usertest[i]:\n",
    "                error = error + 1\n",
    "        except:\n",
    "            error = error + 1\n",
    "    return error \n",
    "def speed_time(time_s,time_e,userinput):\n",
    "    time_delay = time_e - time_s\n",
    "    time_R = round(time_delay,2)\n",
    "    speed = len(userinput)/time_R\n",
    "    return round(speed)\n",
    "    \n",
    "    \n",
    "\n",
    "\n",
    "\n",
    "\n",
    "test =[\"A paragraph is a self-contaned unit of discourse in writing dealing with a particular point or idea.\"\n",
    "\"my name is shalini\",\"welcome coders cave\"]\n",
    "test1 = r.choice(test)\n",
    "print(\"*****typing speed*****\")\n",
    "print(test1)\n",
    "print()\n",
    "print()\n",
    "time_1 = time()\n",
    "testinput=input(\"enter : \")\n",
    "time_2 = time()\n",
    "\n",
    "print('speed : ', speed_time(time_1,time_2,testinput),\" w/sec\")\n",
    "print(\"error : \", mistake(test1,testinput))"
   ]
  },
  {
   "cell_type": "code",
   "execution_count": 13,
   "id": "42bffb42",
   "metadata": {},
   "outputs": [
    {
     "name": "stdout",
     "output_type": "stream",
     "text": [
      "*****typing speed*****\n",
      "A paragraph is a self-contained unit of discourse in writing dealing with a particular point or idea.\n",
      "\n",
      "\n",
      "enter: \n",
      "speed: 0 w/sec\n",
      "error: 101\n"
     ]
    }
   ],
   "source": [
    "from time import time\n",
    "import random as r\n",
    "\n",
    "def mistake(partest, usertest):\n",
    "    error = 0\n",
    "    for i in range(len(partest)):  # Fixed 'Len' to 'len'\n",
    "        try:\n",
    "            if partest[i] != usertest[i]:\n",
    "                error = error + 1\n",
    "        except:\n",
    "            error = error + 1\n",
    "    return error\n",
    "\n",
    "def speed_time(time_s, time_e, userinput):\n",
    "    time_delay = time_e - time_s\n",
    "    time_R = round(time_delay, 2)\n",
    "    speed = len(userinput) / time_R\n",
    "    return round(speed)\n",
    "\n",
    "test = [\n",
    "    \"A paragraph is a self-contained unit of discourse in writing dealing with a particular point or idea.\",\n",
    "    \"my name is shalini\",\n",
    "    \"welcome coders cave\"\n",
    "]\n",
    "\n",
    "test1 = r.choice(test)\n",
    "print(\"*****typing speed*****\")\n",
    "print(test1)\n",
    "print()\n",
    "print()\n",
    "\n",
    "time_1 = time()\n",
    "testinput = input(\"enter: \")\n",
    "time_2 = time()\n",
    "\n",
    "print('speed:', speed_time(time_1, time_2, testinput), \"w/sec\")\n",
    "print(\"error:\", mistake(test1, testinput))"
   ]
  },
  {
   "cell_type": "code",
   "execution_count": null,
   "id": "c9100b34",
   "metadata": {},
   "outputs": [],
   "source": []
  }
 ],
 "metadata": {
  "kernelspec": {
   "display_name": "Python 3 (ipykernel)",
   "language": "python",
   "name": "python3"
  },
  "language_info": {
   "codemirror_mode": {
    "name": "ipython",
    "version": 3
   },
   "file_extension": ".py",
   "mimetype": "text/x-python",
   "name": "python",
   "nbconvert_exporter": "python",
   "pygments_lexer": "ipython3",
   "version": "3.10.9"
  }
 },
 "nbformat": 4,
 "nbformat_minor": 5
}
