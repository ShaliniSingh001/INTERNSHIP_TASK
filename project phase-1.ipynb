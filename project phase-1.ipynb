{
 "cells": [
  {
   "cell_type": "markdown",
   "id": "4bd15636",
   "metadata": {},
   "source": [
    "# 2-Random Password Generator"
   ]
  },
  {
   "cell_type": "code",
   "execution_count": 20,
   "id": "82b87f45",
   "metadata": {},
   "outputs": [
    {
     "name": "stdout",
     "output_type": "stream",
     "text": [
      "enter length of password: 8\n",
      "generated password:  D|$p{[7,\n"
     ]
    }
   ],
   "source": [
    "import string\n",
    "import random\n",
    "len=int(input(\"enter length of password: \"))\n",
    "\n",
    "\"\"\"lower=string.ascii_lowercase\n",
    "upper=string.ascii_uppercase\n",
    "digit=string.digits\n",
    "symbols=string.punctuation\n",
    "\n",
    "str=lower+upper+digit+symbols\"\"\"\n",
    "\n",
    "str=string.printable\n",
    "\n",
    "\n",
    "pwd=random.sample(str,len)\n",
    "password=\"\".join(pwd)\n",
    "print(\"generated password: \",password)"
   ]
  },
  {
   "cell_type": "code",
   "execution_count": 32,
   "id": "5c8cbd46",
   "metadata": {},
   "outputs": [
    {
     "name": "stdout",
     "output_type": "stream",
     "text": [
      "enter length of password: 5\n",
      "enter no. of lowercase characters: 4\n",
      "enter no. uppercase characters: 2\n",
      "enter no. of digits: 3\n",
      "enter no. of symbols: 1\n",
      "generated password : 5G(o49bHcr\n"
     ]
    }
   ],
   "source": [
    "import string\n",
    "import random\n",
    "\n",
    "len=int(input(\"enter length of password: \"))\n",
    "\n",
    "lower_len=int(input(\"enter no. of lowercase characters: \"))\n",
    "upper_len=int(input(\"enter no. uppercase characters: \"))\n",
    "digit_len=int(input(\"enter no. of digits: \"))\n",
    "symbol_len=int(input(\"enter no. of symbols: \"))\n",
    "\n",
    "pwd_len=lower_len+upper_len+digit_len+symbol_len\n",
    "\n",
    "lower=string.ascii_lowercase\n",
    "upper=string.ascii_uppercase\n",
    "digit=string.digits\n",
    "symbol=string.punctuation\n",
    "\n",
    "str=random.choices(lower,k=lower_len)+random.choices(upper,k=upper_len)+random.choices(digit,k=digit_len)+random.choices(symbol,k=symbol_len)\n",
    "random.shuffle(str)\n",
    "password=\"\".join(str)\n",
    "print(\"generated password :\",password)"
   ]
  },
  {
   "cell_type": "markdown",
   "id": "cfcdb800",
   "metadata": {},
   "source": [
    "# 1-calculator"
   ]
  },
  {
   "cell_type": "code",
   "execution_count": null,
   "id": "5701369c",
   "metadata": {},
   "outputs": [],
   "source": [
    "from tkinter import *\n",
    "\n",
    "first_number=second_number=operator=None\n",
    "\n",
    "\n",
    "def get_digit(digit):\n",
    "    current = result_label['text']\n",
    "    new = current + str(digit)\n",
    "    result_label.config(text=new)\n",
    "    \n",
    "def clear():\n",
    "    result_label.config(text='')\n",
    "    \n",
    "def get_operator(op):\n",
    "    global first_number,operator\n",
    "    first_number = int(result_label['text'])\n",
    "    operator = op\n",
    "    result_label.config(text='')\n",
    "    \n",
    "def get_result():\n",
    "    global first_number,second_number,operator\n",
    "    second_number = int(result_label['text'])\n",
    "    \n",
    "    if operator == '+':\n",
    "        result_label.config(text=str(first_number + second_number))\n",
    "    elif operator == '-':\n",
    "        result_label.config(text=str(first_number - second_number))\n",
    "    elif operator == '*':\n",
    "        result_label.config(text=str(first_number * second_number))\n",
    "    else:\n",
    "        if second_number ==0:\n",
    "            result_label.config(text='Error')\n",
    "        else:\n",
    "            result_label.config(text=str(round(first_number / second_number,2)))\n",
    "        \n",
    "    \n",
    "    \n",
    "\n",
    "root = Tk()\n",
    "root.title('calculator')\n",
    "root.geometry\n",
    "root.resizable(0,0)\n",
    "root.configure(background='black')\n",
    "\n",
    "result_label = Label(root,text='',bg='black',fg='white')\n",
    "result_label.grid(row=0,column=0,columnspan=5,pady=(50,25),sticky='w')\n",
    "result_label.config(font=('verdana',30,'bold'))\n",
    "\n",
    "btn7 = Button(root,text='7',bg='#00a65a',fg='white',width=5,height=2,command=lambda :get_digit(7))\n",
    "btn7.grid(row=1,column=0)\n",
    "btn7.config(font=('verdana',14))\n",
    "\n",
    "btn8 = Button(root,text='8',bg='#00a65a',fg='white',width=5,height=2,command=lambda :get_digit(8))\n",
    "btn8.grid(row=1,column=1)\n",
    "btn8.config(font=('verdana',14))\n",
    "\n",
    "btn9 = Button(root,text='9',bg='#00a65a',fg='white',width=5,height=2,command=lambda :get_digit(9))\n",
    "btn9.grid(row=1,column=2)\n",
    "btn9.config(font=('verdana',14)) \n",
    "\n",
    "btn_add = Button(root,text='+',bg='#00a65a',fg='white',width=5,height=2,command=lambda :get_operator('+'))\n",
    "btn_add.grid(row=1,column=3)\n",
    "btn_add.config(font=('verdana',14))\n",
    "\n",
    "\n",
    "btn4 = Button(root,text='4',bg='#00a65a',fg='white',width=5,height=2,command=lambda :get_digit(4))\n",
    "btn4.grid(row=2,column=0)\n",
    "btn4.config(font=('verdana',14))\n",
    "\n",
    "btn5 = Button(root,text='5',bg='#00a65a',fg='white',width=5,height=2,command=lambda :get_digit(5))\n",
    "btn5.grid(row=2,column=1)\n",
    "btn5.config(font=('verdana',14))\n",
    "\n",
    "btn6 = Button(root,text='6',bg='#00a65a',fg='white',width=5,height=2,command=lambda :get_digit(6))\n",
    "btn6.grid(row=2,column=2)\n",
    "btn6.config(font=('verdana',14)) \n",
    "\n",
    "btn_sub = Button(root,text='-',bg='#00a65a',fg='white',width=5,height=2,command=lambda :get_operator('-'))\n",
    "btn_sub.grid(row=2,column=3)\n",
    "btn_sub.config(font=('verdana',14))\n",
    "\n",
    "\n",
    "btn1 = Button(root,text='1',bg='#00a65a',fg='white',width=5,height=2,command=lambda :get_digit(1))\n",
    "btn1.grid(row=3,column=0)\n",
    "btn1.config(font=('verdana',14))\n",
    "\n",
    "btn2 = Button(root,text='2',bg='#00a65a',fg='white',width=5,height=2,command=lambda :get_digit(2))\n",
    "btn2.grid(row=3,column=1)\n",
    "btn2.config(font=('verdana',14))\n",
    "\n",
    "btn3 = Button(root,text='3',bg='#00a65a',fg='white',width=5,height=2,command=lambda :get_digit(3))\n",
    "btn3.grid(row=3,column=2)\n",
    "btn3.config(font=('verdana',14)) \n",
    "\n",
    "btn_mul = Button(root,text='*',bg='#00a65a',fg='white',width=5,height=2,command=lambda :get_operator('*'))\n",
    "btn_mul.grid(row=3,column=3)\n",
    "btn_mul.config(font=('verdana',14))\n",
    "\n",
    "btn_clr = Button(root,text='C',bg='#00a65a',fg='white',width=5,height=2,command=lambda :clear())\n",
    "btn_clr.grid(row=4,column=0)\n",
    "btn_clr.config(font=('verdana',14))\n",
    "\n",
    "\n",
    "btn0 = Button(root,text='0',bg='#00a65a',fg='white',width=5,height=2,command=lambda :get_digit(0))\n",
    "btn0.grid(row=4,column=1)\n",
    "btn0.config(font=('verdana',14))\n",
    "\n",
    "btn_equals = Button(root,text='=',bg='#00a65a',fg='white',width=5,height=2,command=get_result)\n",
    "btn_equals.grid(row=4,column=2)\n",
    "btn_equals.config(font=('verdana',14))\n",
    "\n",
    "btn_div= Button(root,text='/',bg='#00a65a',fg='white',width=5,height=2,command=lambda :get_operator('/'))\n",
    "btn_div.grid(row=4,column=3)\n",
    "btn_div.config(font=('verdana',14))\n",
    "\n",
    "\n",
    "root.mainloop()"
   ]
  },
  {
   "cell_type": "code",
   "execution_count": 7,
   "id": "2c9b2acc",
   "metadata": {},
   "outputs": [
    {
     "name": "stdout",
     "output_type": "stream",
     "text": [
      "enter the no 1: 5\n",
      "enter the no 2: 5\n",
      "enter the operator: *\n",
      "25\n"
     ]
    }
   ],
   "source": [
    "num1 = int(input(\"enter the no 1: \"))\n",
    "num2 = int(input(\"enter the no 2: \"))\n",
    "operator = input(\"enter the operator: \")\n",
    "\n",
    "if operator == '+':\n",
    "    print(num1 + num2)\n",
    "elif operator == '-':\n",
    "    print(num1 - num2)\n",
    "elif operator == '*':\n",
    "    print(num1 * num2)  # Corrected multiplication operation\n",
    "elif operator == '/':\n",
    "    print(num1 / num2)\n",
    "else:\n",
    "    print('Invalid operator')"
   ]
  },
  {
   "cell_type": "code",
   "execution_count": null,
   "id": "ea208020",
   "metadata": {},
   "outputs": [],
   "source": []
  }
 ],
 "metadata": {
  "kernelspec": {
   "display_name": "Python 3 (ipykernel)",
   "language": "python",
   "name": "python3"
  },
  "language_info": {
   "codemirror_mode": {
    "name": "ipython",
    "version": 3
   },
   "file_extension": ".py",
   "mimetype": "text/x-python",
   "name": "python",
   "nbconvert_exporter": "python",
   "pygments_lexer": "ipython3",
   "version": "3.10.9"
  }
 },
 "nbformat": 4,
 "nbformat_minor": 5
}
